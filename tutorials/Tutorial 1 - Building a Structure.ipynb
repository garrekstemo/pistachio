{
    "cells": [
        {
            "cell_type": "code",
            "execution_count": null,
            "source": [
                "import numpy as np\n",
                "import pandas as pd\n",
                "import plotly.graph_objects as go\n",
                "import importlib.resources as pkg_resources\n",
                "from pistachio import transfer_matrix as tm\n",
                "from pistachio import default"
            ],
            "outputs": [],
            "metadata": {}
        },
        {
            "cell_type": "markdown",
            "source": [
                "## Build a structure, layer by layer\n",
                "\n",
                "First, we will build a multi-layered optical structure by creating individual Layer classes and then adding them to a structure.\n",
                "\n",
                "Let's build a simple structure with some material that can be modeled as a Lorentz oscillator sandwiched between two CaF2 plates with 20 μm spacing. First, we'll make our material using the complex [Lorentzian function](https://en.wikipedia.org/wiki/Cauchy_distribution) defined as\n",
                "\n",
                "$$\n",
                "L(\\omega;\\omega_0, f_0, \\gamma) = \\frac{f_0}{\\omega^2 - \\omega_0^2 + i\\omega\\gamma},\n",
                "$$\n",
                "\n",
                "where $f_0$ is the amplitude, $\\omega_0$ is the center angular frequency, and $\\gamma$ is phenomenological damping."
            ],
            "metadata": {}
        },
        {
            "cell_type": "code",
            "execution_count": null,
            "source": [
                "def lorentzian(w, amp=1., w_0=0., gamma=1.):\n",
                "\treturn amp / (w**2 - w_0**2 + 1j*w*gamma)"
            ],
            "outputs": [],
            "metadata": {}
        },
        {
            "cell_type": "code",
            "execution_count": null,
            "source": [
                "# Set a center wavelength at 4 μm or 2500 cm-1\n",
                "num_points = 1000\n",
                "wavelength = np.linspace(3.5e-6, 4.5e-6, num_points)\n",
                "center = 4.e-6\n",
                "damping = 1.5e-8\n",
                "amplitude = 1.e-14\n",
                "lor = lorentzian(wavelength, amplitude, center, damping)"
            ],
            "outputs": [],
            "metadata": {}
        },
        {
            "cell_type": "markdown",
            "source": [
                "Define the complex refractive index as\n",
                "\n",
                "$$\n",
                "\\displaystyle\n",
                "n(\\omega) = \\sqrt{n_{b}^2 - L(\\omega; \\omega_0, f_0, \\gamma)},\n",
                "$$\n",
                "\n",
                "where $n_b$ is the background refractive index and\n",
                "$L(\\omega; \\omega_0, f_0, \\gamma)$ is the complex Lorentzian function defined previously."
            ],
            "metadata": {}
        },
        {
            "cell_type": "code",
            "execution_count": null,
            "source": [
                "n_eff = 1.5\n",
                "refractive = np.sqrt(n_eff**2 - lor)"
            ],
            "outputs": [],
            "metadata": {}
        },
        {
            "cell_type": "markdown",
            "source": [
                "And let's plot this. Comment out either the real or imaginary trace to see the other trace better."
            ],
            "metadata": {}
        },
        {
            "cell_type": "code",
            "execution_count": null,
            "source": [
                "fig = go.Figure()\n",
                "\n",
                "# fig.add_trace(go.Scatter(x=wavelength, y=refractive.real, name='real'))\n",
                "fig.add_trace(go.Scatter(x=wavelength*10**6, y=refractive.imag, name='imaginary'))\n",
                "fig.update_layout(title=\"Lorentz Oscillator Model\",\n",
                "                  xaxis_title=\"Wavelength (μm)\",\n",
                "                  yaxis_title=\"Refractive Index\")\n",
                "\n",
                "fig.show()"
            ],
            "outputs": [],
            "metadata": {}
        },
        {
            "cell_type": "markdown",
            "source": [
                "## Build a structure\n",
                "\n",
                "Now that we have our middle layer, let's put together our structure, starting with the first CaF2 layer where \n",
                "the light will first enter. As long as refractive index data is in the `data/refractive_index` directory,\n",
                "we can directly load it without the full path."
            ],
            "metadata": {}
        },
        {
            "cell_type": "code",
            "execution_count": null,
            "source": [
                "# Initialize a new structure.\n",
                "s = tm.Structure()\n",
                "\n",
                "# If we print the structure, we see that nothing has been added yet.\n",
                "s.print_structure()"
            ],
            "outputs": [],
            "metadata": {}
        },
        {
            "cell_type": "code",
            "execution_count": null,
            "source": [
                "# make a CaF2 layer and add it to the structure\n",
                "caf2 = tm.Layer(material='CaF2', thickness=0.)\n",
                "caf2.get_data_from_csv('CaF2.csv')\n",
                "s.add_layer(caf2)\n",
                "\n",
                "# Now we have one layer\n",
                "s.print_structure()"
            ],
            "outputs": [],
            "metadata": {}
        },
        {
            "cell_type": "markdown",
            "source": [
                "Now let's add our sample layer. We'll initialize it with a material name, the thickness we want, and a list\n",
                "with a single arbitrary wavelength. This can't be empty, but it doesn't matter since we recalculate everything\n",
                "according to the spectrum we want to produce."
            ],
            "metadata": {}
        },
        {
            "cell_type": "code",
            "execution_count": null,
            "source": [
                "sample = tm.Layer(material='Sample', thickness=2.e-5, wavelengths=[1.e-6])"
            ],
            "outputs": [],
            "metadata": {}
        },
        {
            "cell_type": "code",
            "execution_count": null,
            "source": [
                "sample.wavelengths = wavelength\n",
                "sample.refractive_index = refractive.real\n",
                "sample.extinction_coeff = refractive.imag\n",
                "sample.set_complex_refractive(refractive.real, refractive.imag)\n",
                "s.add_layer(sample)\n",
                "s.print_structure()\n"
            ],
            "outputs": [],
            "metadata": {}
        },
        {
            "cell_type": "markdown",
            "source": [
                "We can also delete a layer. Add the sample again and print the structure configuration.\n",
                "Then comment the `add_layer` function and uncomment the `delete_layer` function to try this."
            ],
            "metadata": {}
        },
        {
            "cell_type": "code",
            "execution_count": null,
            "source": [
                "# s.add_layer(sample)\n",
                "# s.delete_layer(3)\n",
                "# s.print_structure()"
            ],
            "outputs": [],
            "metadata": {}
        },
        {
            "cell_type": "markdown",
            "source": [
                "We can also set layer parameters later."
            ],
            "metadata": {}
        },
        {
            "cell_type": "code",
            "execution_count": null,
            "source": [
                "s.layers[1].thickness = 2.e-5"
            ],
            "outputs": [],
            "metadata": {}
        },
        {
            "cell_type": "markdown",
            "source": [
                "Finally, we add the last CaF2 layer the same as before."
            ],
            "metadata": {}
        },
        {
            "cell_type": "code",
            "execution_count": null,
            "source": [
                "caf2 = tm.Layer(material='CaF2', thickness=0.)\n",
                "caf2.get_data_from_csv('CaF2.csv')\n",
                "s.add_layer(caf2)\n",
                "s.print_structure()"
            ],
            "outputs": [],
            "metadata": {}
        },
        {
            "cell_type": "markdown",
            "source": [
                "Next we have to initialize the structure so that each layer has the same number of wavelengths.\n",
                "Pistachio can do a few different calculations, including angle tuning, but we don't need that right now.\n",
                "We set $\\theta_i$ and $\\theta_f$ equal to zero and the number of angles equal to 1, so that we only\n",
                "calculate for zero-degree incidence angle. Then we want to sweep through wavelengths\n",
                "3.5 μm - 4.5 μm. This is the same as the wavelengths set for our sample, but it could be a smaller\n",
                "range within that. Be careful not to set a range outside the refractive index data\n",
                "of any layer. Errors may occur, or the results may be unreliable.\n",
                "Pistachio uses SciPy's interpolate method to generate new data. "
            ],
            "metadata": {}
        },
        {
            "cell_type": "code",
            "execution_count": null,
            "source": [
                "theta = 0.0\n",
                "polarization = 's-wave'\n",
                "min_wl = 3.5e-6\n",
                "max_wl = 4.5e-6\n",
                "num_wavelengths = 5000\n",
                "s.initialize_struct(theta, theta, 1, min_wl, max_wl, num_wavelengths, polarization)"
            ],
            "outputs": [],
            "metadata": {}
        },
        {
            "cell_type": "markdown",
            "source": [
                "Finally calculate transfer matrices for each layer at each wavelength and then the total transfer matrix\n",
                "for the structure at each wavelength, `M_all`. Then calculate the transmittance and reflectance\n",
                "for each transfer matrix, `T_all` and `R_all`."
            ],
            "metadata": {}
        },
        {
            "cell_type": "code",
            "execution_count": null,
            "source": [
                "M_all = s.calculate_all_transfer_matrices(theta, polarization)\n",
                "T_all, R_all = s.calculate_all_t_r(M_all)\n",
                "T_percent = T_all * 100"
            ],
            "outputs": [],
            "metadata": {}
        },
        {
            "cell_type": "code",
            "execution_count": null,
            "source": [
                "wavenumber = (1 / s.wavelengths) / 100\n",
                "\n",
                "fig = go.Figure()\n",
                "fig.add_trace(go.Scatter(x=wavenumber, y=T_percent))\n",
                "fig.update_layout(title=\"Lorentzian oscillator material between two CaF2 plates\", \n",
                "                  xaxis_title=\"Wavenumber (cm-1)\",\n",
                "                  yaxis_title=\"Transmittance (%)\")\n",
                "fig.show()"
            ],
            "outputs": [],
            "metadata": {}
        },
        {
            "cell_type": "markdown",
            "source": [
                "## Build a Fabry-Pérot microcavity from a pre-populated yaml config file\n",
                "\n",
                "The `load_struct_from_config` method uses a yaml config file created by you to \n",
                "generate a multi-layered structure. In our example, there are two CaF2 layers and two\n",
                "Au layers. You can see the config file itself in the `default` directory. \n",
                "The data for these layers are downloaded from refractiveindex.info, so\n",
                "the number of data points between them differs. The middle layer is air, which just\n",
                "has a single refractive index for all wavelengths that we consider here. \n",
                "The `load_struct_from_config` method will\n",
                "refactor each of these layers so that they have the same set of wavelengths. Then\n",
                "the transfer matrix can be calculated for each wavelength between the user-defined\n",
                "max and min wavelengths.\n",
                "\n",
                "Each layer is a class that you can access and modify.\n",
                "A structure is essentially a list of layer classes with methods that can act on\n",
                "all layers, such as performing layer transfer matrices and calculating the total transmittance\n",
                "and reflectance for light propagating through the entire structure.\n",
                "\n",
                "Here, we demonstrate calculating the transmittance and reflectance of light travelling \n",
                "through a Fabry-Pérot microcavity."
            ],
            "metadata": {}
        },
        {
            "cell_type": "code",
            "execution_count": null,
            "source": [
                "yaml_file = 'fabry-perot.yaml'\n",
                "with pkg_resources.path(default, yaml_file) as yml:\n",
                "    yaml_config = os.path.abspath(yml)\n",
                "\n",
                "fp = tm.Structure()\n",
                "fp.load_struct_from_config(yaml_config)"
            ],
            "outputs": [],
            "metadata": {}
        },
        {
            "cell_type": "code",
            "execution_count": null,
            "source": [
                "# Print the parameters of our structure.\n",
                "fp.print_structure()"
            ],
            "outputs": [],
            "metadata": {}
        },
        {
            "cell_type": "markdown",
            "source": [
                "## Calculate Transfer Matrix, Transmittance, and Reflectance\n",
                "\n",
                "Set the angle of incidence (zero degrees) and light polarization (s-wave). Then \n",
                "we calculate each layer transfer matrix at every wavelength and then generate the total\n",
                "structure transfer matrix (again at each wavelength). A list of transfer matrices \n",
                "is returned. Then `calculate_all_t_r` calculates the transmittance and reflectance\n",
                "from each provided total transfer matrix. From this we can plot the transmittance and \n",
                "reflectance spectrum for our structure."
            ],
            "metadata": {}
        },
        {
            "cell_type": "code",
            "execution_count": null,
            "source": [
                "theta = 0.\n",
                "polarization = 's-wave'\n",
                "M_all = fp.calculate_all_transfer_matrices(theta, polarization)\n",
                "T_all, R_all = fp.calculate_all_t_r(M_all)"
            ],
            "outputs": [],
            "metadata": {}
        },
        {
            "cell_type": "code",
            "execution_count": null,
            "source": [
                "# Convert to wavenumbers (cm-1) and percent.\n",
                "\n",
                "wavenumbers = (1 / fp.wavelengths) / 100\n",
                "T_percent = T_all * 100\n",
                "R_percent = R_all * 100"
            ],
            "outputs": [],
            "metadata": {}
        },
        {
            "cell_type": "code",
            "execution_count": null,
            "source": [
                "fig = go.Figure()\n",
                "\n",
                "fig.add_trace(go.Scatter(x=wavenumbers, y=T_percent, name='T'))\n",
                "fig.add_trace(go.Scatter(x=wavenumbers, y=R_percent, name='R'))\n",
                "\n",
                "fig.update_layout(title='Fabry-Pérot etalon of intra-mirror distance {} μm'.format(fp.layers[2].thickness*10**6),\n",
                "                  xaxis_title='Wavenumber (cm-1)',\n",
                "                  yaxis_title='% Transmittance/Reflectance')\n",
                "fig.show()"
            ],
            "outputs": [],
            "metadata": {}
        },
        {
            "cell_type": "code",
            "execution_count": null,
            "source": [],
            "outputs": [],
            "metadata": {}
        }
    ],
    "metadata": {
        "orig_nbformat": 4,
        "language_info": {
            "name": "python",
            "version": "3.9.5",
            "mimetype": "text/x-python",
            "codemirror_mode": {
                "name": "ipython",
                "version": 3
            },
            "pygments_lexer": "ipython3",
            "nbconvert_exporter": "python",
            "file_extension": ".py"
        },
        "kernelspec": {
            "name": "python3",
            "display_name": "Python 3.9.5 64-bit ('main': conda)"
        },
        "interpreter": {
            "hash": "56fe2a2a2eb3bce7dab9fabf6272fdf7fe888485cc7336eae5af8c0040285a3b"
        }
    },
    "nbformat": 4,
    "nbformat_minor": 2
}